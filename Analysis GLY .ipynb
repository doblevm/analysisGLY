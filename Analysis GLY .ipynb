{
 "cells": [
  {
   "cell_type": "code",
   "execution_count": 1,
   "id": "b82fde4a",
   "metadata": {},
   "outputs": [],
   "source": [
    "import numpy as np\n",
    "import pandas as pd\n",
    "import matplotlib.pyplot as plt\n",
    "import seaborn as sns\n",
    "#\n",
    "%matplotlib inline"
   ]
  },
  {
   "cell_type": "code",
   "execution_count": 2,
   "id": "d48249cf",
   "metadata": {},
   "outputs": [],
   "source": [
    "df_LLD = pd.read_excel(\"db/db_velocidades.xlsx\", sheet_name=\"db_vel_LLD\", index_col=0)\n",
    "df_ETQ = pd.read_excel(\"db/db_velocidades.xlsx\", sheet_name=\"db_vel_ETQ\", index_col=0)"
   ]
  },
  {
   "cell_type": "markdown",
   "id": "c15fabe2",
   "metadata": {},
   "source": [
    "## Histograma para el mes de Octubre"
   ]
  },
  {
   "cell_type": "code",
   "execution_count": 4,
   "id": "ed7c0e23",
   "metadata": {},
   "outputs": [],
   "source": [
    "df_LLD_Filtr_oct = df_LLD[(df_LLD['Velocidad LLD [bph]'] > 30000) & (df_LLD['Month'] == 10)]\n",
    "df_ETQ_Filtr_oct = df_ETQ[(df_ETQ['Velocidad ETQ [bph]'] > 33000) & (df_ETQ['Month'] == 10)]"
   ]
  },
  {
   "cell_type": "markdown",
   "id": "a17aea2a",
   "metadata": {},
   "source": [
    "### Llenadora"
   ]
  },
  {
   "cell_type": "code",
   "execution_count": 5,
   "id": "6ca3ef93",
   "metadata": {},
   "outputs": [
    {
     "data": {
      "text/plain": [
       "count      390.000000\n",
       "mean     37229.169231\n",
       "std       1630.367810\n",
       "min      30240.000000\n",
       "25%      36576.000000\n",
       "50%      37584.000000\n",
       "75%      38160.000000\n",
       "max      41472.000000\n",
       "Name: Velocidad LLD [bph], dtype: float64"
      ]
     },
     "execution_count": 5,
     "metadata": {},
     "output_type": "execute_result"
    }
   ],
   "source": [
    "df_LLD_Filtr_oct['Velocidad LLD [bph]'].describe()"
   ]
  },
  {
   "cell_type": "code",
   "execution_count": 6,
   "id": "d4d3ef8c",
   "metadata": {},
   "outputs": [
    {
     "data": {
      "text/plain": [
       "<seaborn.axisgrid.FacetGrid at 0x2543986b430>"
      ]
     },
     "execution_count": 6,
     "metadata": {},
     "output_type": "execute_result"
    },
    {
     "data": {
      "image/png": "[encoded data removed]",
      "text/plain": [
       "<Figure size 360x360 with 1 Axes>"
      ]
     },
     "metadata": {
      "needs_background": "light"
     },
     "output_type": "display_data"
    }
   ],
   "source": [
    "sns.displot(df_LLD_Filtr_oct['Velocidad LLD [bph]'], kde=True, bins=20)"
   ]
  },
  {
   "cell_type": "markdown",
   "id": "05e88734",
   "metadata": {},
   "source": [
    "### Etiquetadora"
   ]
  },
  {
   "cell_type": "code",
   "execution_count": 7,
   "id": "cb5ca177",
   "metadata": {},
   "outputs": [
    {
     "data": {
      "text/plain": [
       "count      114.000000\n",
       "mean     38738.271930\n",
       "std       1924.910164\n",
       "min      33572.000000\n",
       "25%      37858.000000\n",
       "50%      39000.000000\n",
       "75%      40001.000000\n",
       "max      42858.000000\n",
       "Name: Velocidad ETQ [bph], dtype: float64"
      ]
     },
     "execution_count": 7,
     "metadata": {},
     "output_type": "execute_result"
    }
   ],
   "source": [
    "df_ETQ_Filtr_oct['Velocidad ETQ [bph]'].describe()"
   ]
  },
  {
   "cell_type": "code",
   "execution_count": 8,
   "id": "62eef51f",
   "metadata": {},
   "outputs": [
    {
     "data": {
      "text/plain": [
       "<seaborn.axisgrid.FacetGrid at 0x254399d6e20>"
      ]
     },
     "execution_count": 8,
     "metadata": {},
     "output_type": "execute_result"
    },
    {
     "data": {
      "image/png": "[encoded data removed]",
      "text/plain": [
       "<Figure size 360x360 with 1 Axes>"
      ]
     },
     "metadata": {
      "needs_background": "light"
     },
     "output_type": "display_data"
    }
   ],
   "source": [
    "sns.displot(df_ETQ_Filtr_oct['Velocidad ETQ [bph]'], kde=True, bins=20)"
   ]
  },
  {
   "cell_type": "markdown",
   "id": "f1fc944c",
   "metadata": {},
   "source": [
    "## Histograma para el mes de Noviembre"
   ]
  },
  {
   "cell_type": "code",
   "execution_count": 11,
   "id": "0c85d78a",
   "metadata": {},
   "outputs": [],
   "source": [
    "df_LLD_Filtr_nov = df_LLD[(df_LLD['Velocidad LLD [bph]'] > 30000) & (df_LLD['Month'] == 11)]\n",
    "df_ETQ_Filtr_nov = df_ETQ[(df_ETQ['Velocidad ETQ [bph]'] > 33000) & (df_ETQ['Month'] == 11)]"
   ]
  },
  {
   "cell_type": "markdown",
   "id": "035b6dc1",
   "metadata": {},
   "source": [
    "### Llenadora"
   ]
  },
  {
   "cell_type": "code",
   "execution_count": 13,
   "id": "b2e4b1b1",
   "metadata": {},
   "outputs": [
    {
     "data": {
      "text/plain": [
       "count      550.000000\n",
       "mean     37984.581818\n",
       "std       1617.188154\n",
       "min      30384.000000\n",
       "25%      37296.000000\n",
       "50%      38160.000000\n",
       "75%      39312.000000\n",
       "max      41472.000000\n",
       "Name: Velocidad LLD [bph], dtype: float64"
      ]
     },
     "execution_count": 13,
     "metadata": {},
     "output_type": "execute_result"
    }
   ],
   "source": [
    "df_LLD_Filtr_nov['Velocidad LLD [bph]'].describe()"
   ]
  },
  {
   "cell_type": "code",
   "execution_count": 14,
   "id": "c12a1ed9",
   "metadata": {},
   "outputs": [
    {
     "data": {
      "text/plain": [
       "<seaborn.axisgrid.FacetGrid at 0x2543bb65eb0>"
      ]
     },
     "execution_count": 14,
     "metadata": {},
     "output_type": "execute_result"
    },
    {
     "data": {
      "image/png": "[encoded data removed]",
      "text/plain": [
       "<Figure size 360x360 with 1 Axes>"
      ]
     },
     "metadata": {
      "needs_background": "light"
     },
     "output_type": "display_data"
    }
   ],
   "source": [
    "sns.displot(df_LLD_Filtr_nov['Velocidad LLD [bph]'], kde=True, bins=20)"
   ]
  },
  {
   "cell_type": "markdown",
   "id": "395b34c7",
   "metadata": {},
   "source": [
    "### Etiquetadora"
   ]
  },
  {
   "cell_type": "code",
   "execution_count": 25,
   "id": "becc2166",
   "metadata": {},
   "outputs": [
    {
     "data": {
      "text/plain": [
       "count      122.000000\n",
       "mean     39040.688525\n",
       "std       2067.288954\n",
       "min      34286.000000\n",
       "25%      37858.000000\n",
       "50%      39287.000000\n",
       "75%      40536.500000\n",
       "max      43572.000000\n",
       "Name: Velocidad ETQ [bph], dtype: float64"
      ]
     },
     "execution_count": 25,
     "metadata": {},
     "output_type": "execute_result"
    }
   ],
   "source": [
    "df_ETQ_Filtr_nov['Velocidad ETQ [bph]'].describe()"
   ]
  },
  {
   "cell_type": "code",
   "execution_count": 20,
   "id": "25ace102",
   "metadata": {},
   "outputs": [
    {
     "data": {
      "text/plain": [
       "<seaborn.axisgrid.FacetGrid at 0x2543c4d6ac0>"
      ]
     },
     "execution_count": 20,
     "metadata": {},
     "output_type": "execute_result"
    },
    {
     "data": {
      "image/png": "[encoded data removed]",
      "text/plain": [
       "<Figure size 360x360 with 1 Axes>"
      ]
     },
     "metadata": {
      "needs_background": "light"
     },
     "output_type": "display_data"
    }
   ],
   "source": [
    "sns.displot(df_ETQ_Filtr_nov['Velocidad ETQ [bph]'], kde=True, bins=20)"
   ]
  },
  {
   "cell_type": "markdown",
   "id": "65810f7c",
   "metadata": {},
   "source": [
    "\n",
    "# This is a title"
   ]
  },
  {
   "cell_type": "code",
   "execution_count": null,
   "id": "9eec9157",
   "metadata": {},
   "outputs": [],
   "source": []
  },
  {
   "cell_type": "code",
   "execution_count": null,
   "id": "1e405d20",
   "metadata": {},
   "outputs": [],
   "source": []
  },
  {
   "cell_type": "code",
   "execution_count": null,
   "id": "4249cf9f",
   "metadata": {},
   "outputs": [],
   "source": []
  },
  {
   "cell_type": "code",
   "execution_count": null,
   "id": "b56dc7a5",
   "metadata": {},
   "outputs": [],
   "source": []
  },
  {
   "cell_type": "code",
   "execution_count": null,
   "id": "554d7642",
   "metadata": {},
   "outputs": [],
   "source": []
  },
  {
   "cell_type": "code",
   "execution_count": null,
   "id": "1439057c",
   "metadata": {},
   "outputs": [],
   "source": []
  }
 ],
 "metadata": {
  "kernelspec": {
   "display_name": "Python 3",
   "language": "python",
   "name": "python3"
  },
  "language_info": {
   "codemirror_mode": {
    "name": "ipython",
    "version": 3
   },
   "file_extension": ".py",
   "mimetype": "text/x-python",
   "name": "python",
   "nbconvert_exporter": "python",
   "pygments_lexer": "ipython3",
   "version": "3.8.8"
  }
 },
 "nbformat": 4,
 "nbformat_minor": 5
}
